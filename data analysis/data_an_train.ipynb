{
 "cells": [
  {
   "cell_type": "code",
   "execution_count": 11,
   "metadata": {},
   "outputs": [],
   "source": [
    "import numpy as np # linear algebra\n",
    "import pandas as pd # data processing, CSV file I/O (e.g. pd.read_csv)\n",
    "from pathlib import Path # working with paths\n",
    "import os\n",
    "import matplotlib.pyplot as plt\n",
    "import seaborn as sns\n",
    "import plotly.express as px"
   ]
  },
  {
   "cell_type": "code",
   "execution_count": 2,
   "metadata": {},
   "outputs": [],
   "source": [
    "# Setting data paths with pathlib\n",
    "data_path = Path('/home/mai22042/otto/data')\n",
    "train_path = data_path/'train.jsonl'\n",
    "test_path = data_path/'test.jsonl'\n",
    "sample_sub_path = Path('sample_submission.csv')"
   ]
  },
  {
   "cell_type": "code",
   "execution_count": 4,
   "metadata": {},
   "outputs": [],
   "source": [
    "# https://www.kaggle.com/code/columbia2131/otto-read-a-chunk-of-jsonl-to-manageable-df/\n",
    "train_set = pd.DataFrame()\n",
    "chunks = pd.read_json(data_path / 'train.jsonl', lines=True, chunksize=100_000)\n",
    "\n",
    "for e, chunk in enumerate(chunks):\n",
    "    event_dict = {\n",
    "        'session': [],\n",
    "        'aid': [],\n",
    "        'ts': [],\n",
    "        'type': [],\n",
    "    }\n",
    "\n",
    "    # train_set = pd.concat([train_set, chunk])\n",
    "    for session, events in zip(chunk['session'].tolist(), chunk['events'].tolist()):\n",
    "        for event in events:\n",
    "            event_dict['session'].append(session)\n",
    "            event_dict['aid'].append(event['aid'])\n",
    "            event_dict['ts'].append(event['ts'])\n",
    "            event_dict['type'].append(event['type'])\n",
    "    chunk_session = pd.DataFrame(event_dict)\n",
    "    train_set = pd.concat([train_set, chunk_session])\n",
    "\n",
    "        \n",
    "train_set = train_set.reset_index(drop=True)"
   ]
  },
  {
   "cell_type": "code",
   "execution_count": 6,
   "metadata": {},
   "outputs": [
    {
     "data": {
      "text/html": [
       "<div>\n",
       "<style scoped>\n",
       "    .dataframe tbody tr th:only-of-type {\n",
       "        vertical-align: middle;\n",
       "    }\n",
       "\n",
       "    .dataframe tbody tr th {\n",
       "        vertical-align: top;\n",
       "    }\n",
       "\n",
       "    .dataframe thead th {\n",
       "        text-align: right;\n",
       "    }\n",
       "</style>\n",
       "<table border=\"1\" class=\"dataframe\">\n",
       "  <thead>\n",
       "    <tr style=\"text-align: right;\">\n",
       "      <th></th>\n",
       "      <th>session</th>\n",
       "      <th>aid</th>\n",
       "      <th>ts</th>\n",
       "      <th>type</th>\n",
       "    </tr>\n",
       "  </thead>\n",
       "  <tbody>\n",
       "    <tr>\n",
       "      <th>0</th>\n",
       "      <td>0</td>\n",
       "      <td>1517085</td>\n",
       "      <td>1659304800025</td>\n",
       "      <td>clicks</td>\n",
       "    </tr>\n",
       "    <tr>\n",
       "      <th>1</th>\n",
       "      <td>0</td>\n",
       "      <td>1563459</td>\n",
       "      <td>1659304904511</td>\n",
       "      <td>clicks</td>\n",
       "    </tr>\n",
       "    <tr>\n",
       "      <th>2</th>\n",
       "      <td>0</td>\n",
       "      <td>1309446</td>\n",
       "      <td>1659367439426</td>\n",
       "      <td>clicks</td>\n",
       "    </tr>\n",
       "    <tr>\n",
       "      <th>3</th>\n",
       "      <td>0</td>\n",
       "      <td>16246</td>\n",
       "      <td>1659367719997</td>\n",
       "      <td>clicks</td>\n",
       "    </tr>\n",
       "    <tr>\n",
       "      <th>4</th>\n",
       "      <td>0</td>\n",
       "      <td>1781822</td>\n",
       "      <td>1659367871344</td>\n",
       "      <td>clicks</td>\n",
       "    </tr>\n",
       "    <tr>\n",
       "      <th>...</th>\n",
       "      <td>...</td>\n",
       "      <td>...</td>\n",
       "      <td>...</td>\n",
       "      <td>...</td>\n",
       "    </tr>\n",
       "    <tr>\n",
       "      <th>216716091</th>\n",
       "      <td>12899776</td>\n",
       "      <td>1737908</td>\n",
       "      <td>1661723987073</td>\n",
       "      <td>clicks</td>\n",
       "    </tr>\n",
       "    <tr>\n",
       "      <th>216716092</th>\n",
       "      <td>12899777</td>\n",
       "      <td>384045</td>\n",
       "      <td>1661723976974</td>\n",
       "      <td>clicks</td>\n",
       "    </tr>\n",
       "    <tr>\n",
       "      <th>216716093</th>\n",
       "      <td>12899777</td>\n",
       "      <td>384045</td>\n",
       "      <td>1661723986800</td>\n",
       "      <td>clicks</td>\n",
       "    </tr>\n",
       "    <tr>\n",
       "      <th>216716094</th>\n",
       "      <td>12899778</td>\n",
       "      <td>561560</td>\n",
       "      <td>1661723983611</td>\n",
       "      <td>clicks</td>\n",
       "    </tr>\n",
       "    <tr>\n",
       "      <th>216716095</th>\n",
       "      <td>12899778</td>\n",
       "      <td>32070</td>\n",
       "      <td>1661723994936</td>\n",
       "      <td>clicks</td>\n",
       "    </tr>\n",
       "  </tbody>\n",
       "</table>\n",
       "<p>216716096 rows × 4 columns</p>\n",
       "</div>"
      ],
      "text/plain": [
       "            session      aid             ts    type\n",
       "0                 0  1517085  1659304800025  clicks\n",
       "1                 0  1563459  1659304904511  clicks\n",
       "2                 0  1309446  1659367439426  clicks\n",
       "3                 0    16246  1659367719997  clicks\n",
       "4                 0  1781822  1659367871344  clicks\n",
       "...             ...      ...            ...     ...\n",
       "216716091  12899776  1737908  1661723987073  clicks\n",
       "216716092  12899777   384045  1661723976974  clicks\n",
       "216716093  12899777   384045  1661723986800  clicks\n",
       "216716094  12899778   561560  1661723983611  clicks\n",
       "216716095  12899778    32070  1661723994936  clicks\n",
       "\n",
       "[216716096 rows x 4 columns]"
      ]
     },
     "metadata": {},
     "output_type": "display_data"
    }
   ],
   "source": [
    "display(train_set)"
   ]
  },
  {
   "cell_type": "code",
   "execution_count": 7,
   "metadata": {},
   "outputs": [],
   "source": [
    "train_set.rename(index=str, columns={'session': 'session_id',\n",
    "                              'aid' : 'product_id',\n",
    "                              'ts' : 'time_stamp',\n",
    "                              'type' : 'event_type'}, inplace=True)"
   ]
  },
  {
   "cell_type": "code",
   "execution_count": 8,
   "metadata": {},
   "outputs": [
    {
     "data": {
      "text/html": [
       "<div>\n",
       "<style scoped>\n",
       "    .dataframe tbody tr th:only-of-type {\n",
       "        vertical-align: middle;\n",
       "    }\n",
       "\n",
       "    .dataframe tbody tr th {\n",
       "        vertical-align: top;\n",
       "    }\n",
       "\n",
       "    .dataframe thead th {\n",
       "        text-align: right;\n",
       "    }\n",
       "</style>\n",
       "<table border=\"1\" class=\"dataframe\">\n",
       "  <thead>\n",
       "    <tr style=\"text-align: right;\">\n",
       "      <th></th>\n",
       "      <th>session_id</th>\n",
       "      <th>product_id</th>\n",
       "      <th>time_stamp</th>\n",
       "      <th>event_type</th>\n",
       "    </tr>\n",
       "  </thead>\n",
       "  <tbody>\n",
       "    <tr>\n",
       "      <th>0</th>\n",
       "      <td>0</td>\n",
       "      <td>1517085</td>\n",
       "      <td>1659304800025</td>\n",
       "      <td>clicks</td>\n",
       "    </tr>\n",
       "    <tr>\n",
       "      <th>1</th>\n",
       "      <td>0</td>\n",
       "      <td>1563459</td>\n",
       "      <td>1659304904511</td>\n",
       "      <td>clicks</td>\n",
       "    </tr>\n",
       "    <tr>\n",
       "      <th>2</th>\n",
       "      <td>0</td>\n",
       "      <td>1309446</td>\n",
       "      <td>1659367439426</td>\n",
       "      <td>clicks</td>\n",
       "    </tr>\n",
       "    <tr>\n",
       "      <th>3</th>\n",
       "      <td>0</td>\n",
       "      <td>16246</td>\n",
       "      <td>1659367719997</td>\n",
       "      <td>clicks</td>\n",
       "    </tr>\n",
       "    <tr>\n",
       "      <th>4</th>\n",
       "      <td>0</td>\n",
       "      <td>1781822</td>\n",
       "      <td>1659367871344</td>\n",
       "      <td>clicks</td>\n",
       "    </tr>\n",
       "    <tr>\n",
       "      <th>5</th>\n",
       "      <td>0</td>\n",
       "      <td>1152674</td>\n",
       "      <td>1659367885796</td>\n",
       "      <td>clicks</td>\n",
       "    </tr>\n",
       "    <tr>\n",
       "      <th>6</th>\n",
       "      <td>0</td>\n",
       "      <td>1649869</td>\n",
       "      <td>1659369893840</td>\n",
       "      <td>carts</td>\n",
       "    </tr>\n",
       "    <tr>\n",
       "      <th>7</th>\n",
       "      <td>0</td>\n",
       "      <td>461689</td>\n",
       "      <td>1659369898050</td>\n",
       "      <td>carts</td>\n",
       "    </tr>\n",
       "    <tr>\n",
       "      <th>8</th>\n",
       "      <td>0</td>\n",
       "      <td>305831</td>\n",
       "      <td>1659370027105</td>\n",
       "      <td>orders</td>\n",
       "    </tr>\n",
       "    <tr>\n",
       "      <th>9</th>\n",
       "      <td>0</td>\n",
       "      <td>461689</td>\n",
       "      <td>1659370027105</td>\n",
       "      <td>orders</td>\n",
       "    </tr>\n",
       "    <tr>\n",
       "      <th>10</th>\n",
       "      <td>0</td>\n",
       "      <td>362233</td>\n",
       "      <td>1659370064916</td>\n",
       "      <td>clicks</td>\n",
       "    </tr>\n",
       "    <tr>\n",
       "      <th>11</th>\n",
       "      <td>0</td>\n",
       "      <td>1649869</td>\n",
       "      <td>1659370067686</td>\n",
       "      <td>clicks</td>\n",
       "    </tr>\n",
       "    <tr>\n",
       "      <th>12</th>\n",
       "      <td>0</td>\n",
       "      <td>1649869</td>\n",
       "      <td>1659371003682</td>\n",
       "      <td>clicks</td>\n",
       "    </tr>\n",
       "    <tr>\n",
       "      <th>13</th>\n",
       "      <td>0</td>\n",
       "      <td>984597</td>\n",
       "      <td>1659371033243</td>\n",
       "      <td>clicks</td>\n",
       "    </tr>\n",
       "    <tr>\n",
       "      <th>14</th>\n",
       "      <td>0</td>\n",
       "      <td>1649869</td>\n",
       "      <td>1659371042297</td>\n",
       "      <td>clicks</td>\n",
       "    </tr>\n",
       "    <tr>\n",
       "      <th>15</th>\n",
       "      <td>0</td>\n",
       "      <td>803544</td>\n",
       "      <td>1659371044075</td>\n",
       "      <td>clicks</td>\n",
       "    </tr>\n",
       "    <tr>\n",
       "      <th>16</th>\n",
       "      <td>0</td>\n",
       "      <td>1110941</td>\n",
       "      <td>1659371104329</td>\n",
       "      <td>clicks</td>\n",
       "    </tr>\n",
       "    <tr>\n",
       "      <th>17</th>\n",
       "      <td>0</td>\n",
       "      <td>1190046</td>\n",
       "      <td>1659371123063</td>\n",
       "      <td>clicks</td>\n",
       "    </tr>\n",
       "    <tr>\n",
       "      <th>18</th>\n",
       "      <td>0</td>\n",
       "      <td>1760685</td>\n",
       "      <td>1659375531385</td>\n",
       "      <td>clicks</td>\n",
       "    </tr>\n",
       "    <tr>\n",
       "      <th>19</th>\n",
       "      <td>0</td>\n",
       "      <td>631008</td>\n",
       "      <td>1659375544399</td>\n",
       "      <td>clicks</td>\n",
       "    </tr>\n",
       "  </tbody>\n",
       "</table>\n",
       "</div>"
      ],
      "text/plain": [
       "    session_id  product_id     time_stamp event_type\n",
       "0            0     1517085  1659304800025     clicks\n",
       "1            0     1563459  1659304904511     clicks\n",
       "2            0     1309446  1659367439426     clicks\n",
       "3            0       16246  1659367719997     clicks\n",
       "4            0     1781822  1659367871344     clicks\n",
       "5            0     1152674  1659367885796     clicks\n",
       "6            0     1649869  1659369893840      carts\n",
       "7            0      461689  1659369898050      carts\n",
       "8            0      305831  1659370027105     orders\n",
       "9            0      461689  1659370027105     orders\n",
       "10           0      362233  1659370064916     clicks\n",
       "11           0     1649869  1659370067686     clicks\n",
       "12           0     1649869  1659371003682     clicks\n",
       "13           0      984597  1659371033243     clicks\n",
       "14           0     1649869  1659371042297     clicks\n",
       "15           0      803544  1659371044075     clicks\n",
       "16           0     1110941  1659371104329     clicks\n",
       "17           0     1190046  1659371123063     clicks\n",
       "18           0     1760685  1659375531385     clicks\n",
       "19           0      631008  1659375544399     clicks"
      ]
     },
     "execution_count": 8,
     "metadata": {},
     "output_type": "execute_result"
    }
   ],
   "source": [
    "train_set.head(20)"
   ]
  },
  {
   "cell_type": "code",
   "execution_count": 9,
   "metadata": {},
   "outputs": [
    {
     "data": {
      "text/html": [
       "<div>\n",
       "<style scoped>\n",
       "    .dataframe tbody tr th:only-of-type {\n",
       "        vertical-align: middle;\n",
       "    }\n",
       "\n",
       "    .dataframe tbody tr th {\n",
       "        vertical-align: top;\n",
       "    }\n",
       "\n",
       "    .dataframe thead th {\n",
       "        text-align: right;\n",
       "    }\n",
       "</style>\n",
       "<table border=\"1\" class=\"dataframe\">\n",
       "  <thead>\n",
       "    <tr style=\"text-align: right;\">\n",
       "      <th></th>\n",
       "      <th>session_id</th>\n",
       "      <th>product_id</th>\n",
       "      <th>time_stamp</th>\n",
       "      <th>event_type</th>\n",
       "      <th>date</th>\n",
       "    </tr>\n",
       "  </thead>\n",
       "  <tbody>\n",
       "    <tr>\n",
       "      <th>0</th>\n",
       "      <td>0</td>\n",
       "      <td>1517085</td>\n",
       "      <td>1659304800025</td>\n",
       "      <td>clicks</td>\n",
       "      <td>2022-07-31 22:00:00.025</td>\n",
       "    </tr>\n",
       "    <tr>\n",
       "      <th>1</th>\n",
       "      <td>0</td>\n",
       "      <td>1563459</td>\n",
       "      <td>1659304904511</td>\n",
       "      <td>clicks</td>\n",
       "      <td>2022-07-31 22:01:44.511</td>\n",
       "    </tr>\n",
       "    <tr>\n",
       "      <th>2</th>\n",
       "      <td>0</td>\n",
       "      <td>1309446</td>\n",
       "      <td>1659367439426</td>\n",
       "      <td>clicks</td>\n",
       "      <td>2022-08-01 15:23:59.426</td>\n",
       "    </tr>\n",
       "    <tr>\n",
       "      <th>3</th>\n",
       "      <td>0</td>\n",
       "      <td>16246</td>\n",
       "      <td>1659367719997</td>\n",
       "      <td>clicks</td>\n",
       "      <td>2022-08-01 15:28:39.997</td>\n",
       "    </tr>\n",
       "    <tr>\n",
       "      <th>4</th>\n",
       "      <td>0</td>\n",
       "      <td>1781822</td>\n",
       "      <td>1659367871344</td>\n",
       "      <td>clicks</td>\n",
       "      <td>2022-08-01 15:31:11.344</td>\n",
       "    </tr>\n",
       "    <tr>\n",
       "      <th>5</th>\n",
       "      <td>0</td>\n",
       "      <td>1152674</td>\n",
       "      <td>1659367885796</td>\n",
       "      <td>clicks</td>\n",
       "      <td>2022-08-01 15:31:25.796</td>\n",
       "    </tr>\n",
       "    <tr>\n",
       "      <th>6</th>\n",
       "      <td>0</td>\n",
       "      <td>1649869</td>\n",
       "      <td>1659369893840</td>\n",
       "      <td>carts</td>\n",
       "      <td>2022-08-01 16:04:53.840</td>\n",
       "    </tr>\n",
       "    <tr>\n",
       "      <th>7</th>\n",
       "      <td>0</td>\n",
       "      <td>461689</td>\n",
       "      <td>1659369898050</td>\n",
       "      <td>carts</td>\n",
       "      <td>2022-08-01 16:04:58.050</td>\n",
       "    </tr>\n",
       "    <tr>\n",
       "      <th>8</th>\n",
       "      <td>0</td>\n",
       "      <td>305831</td>\n",
       "      <td>1659370027105</td>\n",
       "      <td>orders</td>\n",
       "      <td>2022-08-01 16:07:07.105</td>\n",
       "    </tr>\n",
       "    <tr>\n",
       "      <th>9</th>\n",
       "      <td>0</td>\n",
       "      <td>461689</td>\n",
       "      <td>1659370027105</td>\n",
       "      <td>orders</td>\n",
       "      <td>2022-08-01 16:07:07.105</td>\n",
       "    </tr>\n",
       "    <tr>\n",
       "      <th>10</th>\n",
       "      <td>0</td>\n",
       "      <td>362233</td>\n",
       "      <td>1659370064916</td>\n",
       "      <td>clicks</td>\n",
       "      <td>2022-08-01 16:07:44.916</td>\n",
       "    </tr>\n",
       "    <tr>\n",
       "      <th>11</th>\n",
       "      <td>0</td>\n",
       "      <td>1649869</td>\n",
       "      <td>1659370067686</td>\n",
       "      <td>clicks</td>\n",
       "      <td>2022-08-01 16:07:47.686</td>\n",
       "    </tr>\n",
       "    <tr>\n",
       "      <th>12</th>\n",
       "      <td>0</td>\n",
       "      <td>1649869</td>\n",
       "      <td>1659371003682</td>\n",
       "      <td>clicks</td>\n",
       "      <td>2022-08-01 16:23:23.682</td>\n",
       "    </tr>\n",
       "    <tr>\n",
       "      <th>13</th>\n",
       "      <td>0</td>\n",
       "      <td>984597</td>\n",
       "      <td>1659371033243</td>\n",
       "      <td>clicks</td>\n",
       "      <td>2022-08-01 16:23:53.243</td>\n",
       "    </tr>\n",
       "    <tr>\n",
       "      <th>14</th>\n",
       "      <td>0</td>\n",
       "      <td>1649869</td>\n",
       "      <td>1659371042297</td>\n",
       "      <td>clicks</td>\n",
       "      <td>2022-08-01 16:24:02.297</td>\n",
       "    </tr>\n",
       "    <tr>\n",
       "      <th>15</th>\n",
       "      <td>0</td>\n",
       "      <td>803544</td>\n",
       "      <td>1659371044075</td>\n",
       "      <td>clicks</td>\n",
       "      <td>2022-08-01 16:24:04.075</td>\n",
       "    </tr>\n",
       "    <tr>\n",
       "      <th>16</th>\n",
       "      <td>0</td>\n",
       "      <td>1110941</td>\n",
       "      <td>1659371104329</td>\n",
       "      <td>clicks</td>\n",
       "      <td>2022-08-01 16:25:04.329</td>\n",
       "    </tr>\n",
       "    <tr>\n",
       "      <th>17</th>\n",
       "      <td>0</td>\n",
       "      <td>1190046</td>\n",
       "      <td>1659371123063</td>\n",
       "      <td>clicks</td>\n",
       "      <td>2022-08-01 16:25:23.063</td>\n",
       "    </tr>\n",
       "    <tr>\n",
       "      <th>18</th>\n",
       "      <td>0</td>\n",
       "      <td>1760685</td>\n",
       "      <td>1659375531385</td>\n",
       "      <td>clicks</td>\n",
       "      <td>2022-08-01 17:38:51.385</td>\n",
       "    </tr>\n",
       "    <tr>\n",
       "      <th>19</th>\n",
       "      <td>0</td>\n",
       "      <td>631008</td>\n",
       "      <td>1659375544399</td>\n",
       "      <td>clicks</td>\n",
       "      <td>2022-08-01 17:39:04.399</td>\n",
       "    </tr>\n",
       "  </tbody>\n",
       "</table>\n",
       "</div>"
      ],
      "text/plain": [
       "    session_id  product_id     time_stamp event_type                    date\n",
       "0            0     1517085  1659304800025     clicks 2022-07-31 22:00:00.025\n",
       "1            0     1563459  1659304904511     clicks 2022-07-31 22:01:44.511\n",
       "2            0     1309446  1659367439426     clicks 2022-08-01 15:23:59.426\n",
       "3            0       16246  1659367719997     clicks 2022-08-01 15:28:39.997\n",
       "4            0     1781822  1659367871344     clicks 2022-08-01 15:31:11.344\n",
       "5            0     1152674  1659367885796     clicks 2022-08-01 15:31:25.796\n",
       "6            0     1649869  1659369893840      carts 2022-08-01 16:04:53.840\n",
       "7            0      461689  1659369898050      carts 2022-08-01 16:04:58.050\n",
       "8            0      305831  1659370027105     orders 2022-08-01 16:07:07.105\n",
       "9            0      461689  1659370027105     orders 2022-08-01 16:07:07.105\n",
       "10           0      362233  1659370064916     clicks 2022-08-01 16:07:44.916\n",
       "11           0     1649869  1659370067686     clicks 2022-08-01 16:07:47.686\n",
       "12           0     1649869  1659371003682     clicks 2022-08-01 16:23:23.682\n",
       "13           0      984597  1659371033243     clicks 2022-08-01 16:23:53.243\n",
       "14           0     1649869  1659371042297     clicks 2022-08-01 16:24:02.297\n",
       "15           0      803544  1659371044075     clicks 2022-08-01 16:24:04.075\n",
       "16           0     1110941  1659371104329     clicks 2022-08-01 16:25:04.329\n",
       "17           0     1190046  1659371123063     clicks 2022-08-01 16:25:23.063\n",
       "18           0     1760685  1659375531385     clicks 2022-08-01 17:38:51.385\n",
       "19           0      631008  1659375544399     clicks 2022-08-01 17:39:04.399"
      ]
     },
     "execution_count": 9,
     "metadata": {},
     "output_type": "execute_result"
    }
   ],
   "source": [
    "train_set['date'] = pd.to_datetime(train_set['time_stamp'], unit='ms')\n",
    "train_set.head(20)"
   ]
  },
  {
   "cell_type": "code",
   "execution_count": null,
   "metadata": {},
   "outputs": [],
   "source": [
    "train_set.drop('year_month', inplace=True, axis=1)\n",
    "\n",
    "train_set.head(5)"
   ]
  },
  {
   "cell_type": "code",
   "execution_count": 11,
   "metadata": {},
   "outputs": [],
   "source": [
    "train_set.insert(loc=3, column='year', value=train_set['date'].map(lambda x: x.year))"
   ]
  },
  {
   "cell_type": "code",
   "execution_count": 12,
   "metadata": {},
   "outputs": [],
   "source": [
    "train_set.insert(loc=4, column='month', value=train_set['date'].map(lambda x: x.month))"
   ]
  },
  {
   "cell_type": "code",
   "execution_count": 13,
   "metadata": {},
   "outputs": [],
   "source": [
    "train_set.insert(loc=5, column='day', value=train_set['date'].map(lambda x: x.day))"
   ]
  },
  {
   "cell_type": "code",
   "execution_count": 14,
   "metadata": {},
   "outputs": [],
   "source": [
    "train_set.head(5)\n",
    "train_set.insert(loc=7, column='day2', value=(train_set.date.dt.dayofweek)+1)\n"
   ]
  },
  {
   "cell_type": "code",
   "execution_count": 15,
   "metadata": {},
   "outputs": [],
   "source": [
    "train_set.insert(loc=8, column='hour', value=train_set.date.dt.hour)"
   ]
  },
  {
   "cell_type": "code",
   "execution_count": 16,
   "metadata": {},
   "outputs": [
    {
     "data": {
      "text/html": [
       "<div>\n",
       "<style scoped>\n",
       "    .dataframe tbody tr th:only-of-type {\n",
       "        vertical-align: middle;\n",
       "    }\n",
       "\n",
       "    .dataframe tbody tr th {\n",
       "        vertical-align: top;\n",
       "    }\n",
       "\n",
       "    .dataframe thead th {\n",
       "        text-align: right;\n",
       "    }\n",
       "</style>\n",
       "<table border=\"1\" class=\"dataframe\">\n",
       "  <thead>\n",
       "    <tr style=\"text-align: right;\">\n",
       "      <th></th>\n",
       "      <th>session_id</th>\n",
       "      <th>product_id</th>\n",
       "      <th>time_stamp</th>\n",
       "      <th>year</th>\n",
       "      <th>month</th>\n",
       "      <th>day</th>\n",
       "      <th>event_type</th>\n",
       "      <th>day2</th>\n",
       "      <th>hour</th>\n",
       "      <th>date</th>\n",
       "    </tr>\n",
       "  </thead>\n",
       "  <tbody>\n",
       "    <tr>\n",
       "      <th>0</th>\n",
       "      <td>0</td>\n",
       "      <td>1517085</td>\n",
       "      <td>1659304800025</td>\n",
       "      <td>2022</td>\n",
       "      <td>7</td>\n",
       "      <td>31</td>\n",
       "      <td>clicks</td>\n",
       "      <td>7</td>\n",
       "      <td>22</td>\n",
       "      <td>2022-07-31 22:00:00.025</td>\n",
       "    </tr>\n",
       "    <tr>\n",
       "      <th>1</th>\n",
       "      <td>0</td>\n",
       "      <td>1563459</td>\n",
       "      <td>1659304904511</td>\n",
       "      <td>2022</td>\n",
       "      <td>7</td>\n",
       "      <td>31</td>\n",
       "      <td>clicks</td>\n",
       "      <td>7</td>\n",
       "      <td>22</td>\n",
       "      <td>2022-07-31 22:01:44.511</td>\n",
       "    </tr>\n",
       "    <tr>\n",
       "      <th>2</th>\n",
       "      <td>0</td>\n",
       "      <td>1309446</td>\n",
       "      <td>1659367439426</td>\n",
       "      <td>2022</td>\n",
       "      <td>8</td>\n",
       "      <td>1</td>\n",
       "      <td>clicks</td>\n",
       "      <td>1</td>\n",
       "      <td>15</td>\n",
       "      <td>2022-08-01 15:23:59.426</td>\n",
       "    </tr>\n",
       "    <tr>\n",
       "      <th>3</th>\n",
       "      <td>0</td>\n",
       "      <td>16246</td>\n",
       "      <td>1659367719997</td>\n",
       "      <td>2022</td>\n",
       "      <td>8</td>\n",
       "      <td>1</td>\n",
       "      <td>clicks</td>\n",
       "      <td>1</td>\n",
       "      <td>15</td>\n",
       "      <td>2022-08-01 15:28:39.997</td>\n",
       "    </tr>\n",
       "    <tr>\n",
       "      <th>4</th>\n",
       "      <td>0</td>\n",
       "      <td>1781822</td>\n",
       "      <td>1659367871344</td>\n",
       "      <td>2022</td>\n",
       "      <td>8</td>\n",
       "      <td>1</td>\n",
       "      <td>clicks</td>\n",
       "      <td>1</td>\n",
       "      <td>15</td>\n",
       "      <td>2022-08-01 15:31:11.344</td>\n",
       "    </tr>\n",
       "  </tbody>\n",
       "</table>\n",
       "</div>"
      ],
      "text/plain": [
       "   session_id  product_id     time_stamp  year  month  day event_type  day2  \\\n",
       "0           0     1517085  1659304800025  2022      7   31     clicks     7   \n",
       "1           0     1563459  1659304904511  2022      7   31     clicks     7   \n",
       "2           0     1309446  1659367439426  2022      8    1     clicks     1   \n",
       "3           0       16246  1659367719997  2022      8    1     clicks     1   \n",
       "4           0     1781822  1659367871344  2022      8    1     clicks     1   \n",
       "\n",
       "   hour                    date  \n",
       "0    22 2022-07-31 22:00:00.025  \n",
       "1    22 2022-07-31 22:01:44.511  \n",
       "2    15 2022-08-01 15:23:59.426  \n",
       "3    15 2022-08-01 15:28:39.997  \n",
       "4    15 2022-08-01 15:31:11.344  "
      ]
     },
     "execution_count": 16,
     "metadata": {},
     "output_type": "execute_result"
    }
   ],
   "source": [
    "train_set.head(5)"
   ]
  },
  {
   "cell_type": "code",
   "execution_count": 17,
   "metadata": {},
   "outputs": [],
   "source": [
    "train_set = train_set[['session_id','product_id','event_type','time_stamp','year','month','day','day2','hour','date']]"
   ]
  },
  {
   "cell_type": "code",
   "execution_count": 19,
   "metadata": {},
   "outputs": [
    {
     "data": {
      "text/html": [
       "<div>\n",
       "<style scoped>\n",
       "    .dataframe tbody tr th:only-of-type {\n",
       "        vertical-align: middle;\n",
       "    }\n",
       "\n",
       "    .dataframe tbody tr th {\n",
       "        vertical-align: top;\n",
       "    }\n",
       "\n",
       "    .dataframe thead th {\n",
       "        text-align: right;\n",
       "    }\n",
       "</style>\n",
       "<table border=\"1\" class=\"dataframe\">\n",
       "  <thead>\n",
       "    <tr style=\"text-align: right;\">\n",
       "      <th></th>\n",
       "      <th>session_id</th>\n",
       "      <th>product_id</th>\n",
       "      <th>event_type</th>\n",
       "      <th>time_stamp</th>\n",
       "      <th>year</th>\n",
       "      <th>month</th>\n",
       "      <th>day</th>\n",
       "      <th>day2</th>\n",
       "      <th>hour</th>\n",
       "      <th>date</th>\n",
       "    </tr>\n",
       "  </thead>\n",
       "  <tbody>\n",
       "    <tr>\n",
       "      <th>0</th>\n",
       "      <td>0</td>\n",
       "      <td>1517085</td>\n",
       "      <td>clicks</td>\n",
       "      <td>1659304800025</td>\n",
       "      <td>2022</td>\n",
       "      <td>7</td>\n",
       "      <td>31</td>\n",
       "      <td>7</td>\n",
       "      <td>22</td>\n",
       "      <td>2022-07-31 22:00:00.025</td>\n",
       "    </tr>\n",
       "    <tr>\n",
       "      <th>1</th>\n",
       "      <td>0</td>\n",
       "      <td>1563459</td>\n",
       "      <td>clicks</td>\n",
       "      <td>1659304904511</td>\n",
       "      <td>2022</td>\n",
       "      <td>7</td>\n",
       "      <td>31</td>\n",
       "      <td>7</td>\n",
       "      <td>22</td>\n",
       "      <td>2022-07-31 22:01:44.511</td>\n",
       "    </tr>\n",
       "    <tr>\n",
       "      <th>2</th>\n",
       "      <td>0</td>\n",
       "      <td>1309446</td>\n",
       "      <td>clicks</td>\n",
       "      <td>1659367439426</td>\n",
       "      <td>2022</td>\n",
       "      <td>8</td>\n",
       "      <td>1</td>\n",
       "      <td>1</td>\n",
       "      <td>15</td>\n",
       "      <td>2022-08-01 15:23:59.426</td>\n",
       "    </tr>\n",
       "    <tr>\n",
       "      <th>3</th>\n",
       "      <td>0</td>\n",
       "      <td>16246</td>\n",
       "      <td>clicks</td>\n",
       "      <td>1659367719997</td>\n",
       "      <td>2022</td>\n",
       "      <td>8</td>\n",
       "      <td>1</td>\n",
       "      <td>1</td>\n",
       "      <td>15</td>\n",
       "      <td>2022-08-01 15:28:39.997</td>\n",
       "    </tr>\n",
       "    <tr>\n",
       "      <th>4</th>\n",
       "      <td>0</td>\n",
       "      <td>1781822</td>\n",
       "      <td>clicks</td>\n",
       "      <td>1659367871344</td>\n",
       "      <td>2022</td>\n",
       "      <td>8</td>\n",
       "      <td>1</td>\n",
       "      <td>1</td>\n",
       "      <td>15</td>\n",
       "      <td>2022-08-01 15:31:11.344</td>\n",
       "    </tr>\n",
       "  </tbody>\n",
       "</table>\n",
       "</div>"
      ],
      "text/plain": [
       "   session_id  product_id event_type     time_stamp  year  month  day  day2  \\\n",
       "0           0     1517085     clicks  1659304800025  2022      7   31     7   \n",
       "1           0     1563459     clicks  1659304904511  2022      7   31     7   \n",
       "2           0     1309446     clicks  1659367439426  2022      8    1     1   \n",
       "3           0       16246     clicks  1659367719997  2022      8    1     1   \n",
       "4           0     1781822     clicks  1659367871344  2022      8    1     1   \n",
       "\n",
       "   hour                    date  \n",
       "0    22 2022-07-31 22:00:00.025  \n",
       "1    22 2022-07-31 22:01:44.511  \n",
       "2    15 2022-08-01 15:23:59.426  \n",
       "3    15 2022-08-01 15:28:39.997  \n",
       "4    15 2022-08-01 15:31:11.344  "
      ]
     },
     "execution_count": 19,
     "metadata": {},
     "output_type": "execute_result"
    }
   ],
   "source": [
    "train_set.head(5)"
   ]
  },
  {
   "cell_type": "code",
   "execution_count": 18,
   "metadata": {},
   "outputs": [],
   "source": [
    "# creating a csv from dataframe\n",
    "train_set.to_csv(\"otto-data-train-an-last.csv\", index=False)"
   ]
  },
  {
   "cell_type": "code",
   "execution_count": 4,
   "metadata": {},
   "outputs": [],
   "source": [
    "train_set= pd.read_csv('/home/mai22042/otto/src/data analysis/otto-data-train-an-last.csv')"
   ]
  },
  {
   "cell_type": "code",
   "execution_count": null,
   "metadata": {},
   "outputs": [],
   "source": [
    "print(train_set.nunique())"
   ]
  },
  {
   "cell_type": "code",
   "execution_count": 6,
   "metadata": {},
   "outputs": [
    {
     "name": "stdout",
     "output_type": "stream",
     "text": [
      "6265682     500\n",
      "4110619     500\n",
      "10776795    499\n",
      "1870739     499\n",
      "2473055     498\n",
      "           ... \n",
      "10731401      2\n",
      "6311756       2\n",
      "10731403      2\n",
      "10731405      2\n",
      "12899778      2\n",
      "Name: session_id, Length: 12899779, dtype: int64\n"
     ]
    }
   ],
   "source": [
    "# which session was more active\n",
    "train_sessions = train_set['session_id'].value_counts()\n",
    "print(train_sessions)\n",
    "\n"
   ]
  },
  {
   "cell_type": "code",
   "execution_count": null,
   "metadata": {},
   "outputs": [
    {
     "name": "stdout",
     "output_type": "stream",
     "text": [
      "1460571    129004\n",
      "485256     126836\n",
      "108125     118524\n",
      "29735      113279\n",
      "1733943    105091\n",
      "            ...  \n",
      "353667          3\n",
      "279299          3\n",
      "1320306         3\n",
      "1816720         3\n",
      "651154          3\n",
      "Name: product_id, Length: 1855603, dtype: int64\n"
     ]
    },
    {
     "data": {
      "text/plain": [
       "1460571    129004\n",
       "485256     126836\n",
       "108125     118524\n",
       "29735      113279\n",
       "1733943    105091\n",
       "832192      91325\n",
       "184976      90244\n",
       "166037      84657\n",
       "554660      80197\n",
       "231487      79872\n",
       "1502122     78203\n",
       "986164      76988\n",
       "1603001     76737\n",
       "322370      74027\n",
       "1236775     74026\n",
       "332654      71732\n",
       "1196256     68329\n",
       "756588      66962\n",
       "1083665     65124\n",
       "959208      64900\n",
       "Name: product_id, dtype: int64"
      ]
     },
     "execution_count": 21,
     "metadata": {},
     "output_type": "execute_result"
    }
   ],
   "source": [
    "# unique products and how often they are clicked, put in cart, or bought\n",
    "train_products = train_set['product_id'].value_counts()\n",
    "train_products.head(10)"
   ]
  },
  {
   "cell_type": "code",
   "execution_count": 22,
   "metadata": {},
   "outputs": [
    {
     "name": "stdout",
     "output_type": "stream",
     "text": [
      "sessions[train_set] contain : 194720954 number of \"clicks\" in total\n",
      "sessions[train_set] contain : 16896191 number of \"carts\" in total\n",
      "sessions[train_set] contain : 5098951 number of \"orders\" in total\n"
     ]
    }
   ],
   "source": [
    "#Total number of \"clicks\" in train session\n",
    "n_clicks = len(train_set[train_set['event_type'].map(lambda x:x == 'clicks')])\n",
    "print(f'sessions[train_set] contain : {n_clicks} number of \"clicks\" in total')\n",
    "#Total number of \"carts\" in train session\n",
    "n_carts = len(train_set[train_set['event_type'].map(lambda x:x == 'carts')])\n",
    "print(f'sessions[train_set] contain : {n_carts} number of \"carts\" in total')\n",
    "#Total number of \"orders\" in train session\n",
    "n_orders = len(train_set[train_set['event_type'].map(lambda x:x == 'orders')])\n",
    "print(f'sessions[train_set] contain : {n_orders} number of \"orders\" in total')"
   ]
  },
  {
   "cell_type": "code",
   "execution_count": 13,
   "metadata": {},
   "outputs": [],
   "source": [
    "#n_cer = len(train_set[train_set['event_type'].map(lambda x:x == type) & train_set['month'].map(lambda x:x == month)])\n",
    "#print(f'sessions[train_set] contain : {n_cer} number of \"clicks\" in total')"
   ]
  },
  {
   "cell_type": "code",
   "execution_count": null,
   "metadata": {},
   "outputs": [],
   "source": [
    "types=['clicks','carts','orders']\n",
    "months=[5,6,7,8,9]\n",
    "for month in months:\n",
    "    for type in types:\n",
    "        #n_o_e = train_set[train_set['event_type'].map(lambda x:x == type)]\n",
    "        #n_month = train_set[train_set['month'].map(lambda x:x == month)]\n",
    "        n_e_p_m = len(train_set[(train_set['event_type'].map(lambda x:x == type)) & (train_set['month'].map(lambda x:x == month))])\n",
    "        print(f'Durring the {month} month, {n_e_p_m} number of type \"{type}\" actions occured.')"
   ]
  },
  {
   "cell_type": "code",
   "execution_count": 31,
   "metadata": {},
   "outputs": [
    {
     "name": "stdout",
     "output_type": "stream",
     "text": [
      "8    216366984\n",
      "7       349112\n",
      "Name: month, dtype: int64\n"
     ]
    }
   ],
   "source": [
    "# Which month is the busiest?\n",
    "train_month = train_set['month'].value_counts()\n",
    "print(train_month)"
   ]
  },
  {
   "cell_type": "code",
   "execution_count": 13,
   "metadata": {},
   "outputs": [
    {
     "name": "stderr",
     "output_type": "stream",
     "text": [
      "/tmp/ipykernel_1079866/1087421980.py:3: FutureWarning: The behavior of `series[i:j]` with an integer-dtype index is deprecated. In a future version, this will be treated as *label-based* indexing, consistent with e.g. `series[i]` lookups. To retain the old behavior, use `series.iloc[i:j]`. To get the future behavior, use `series.loc[i:j]`.\n",
      "  train_day = train_day[:10,]\n",
      "/home/mai22042/miniconda3/envs/thesis/lib/python3.11/site-packages/seaborn/_decorators.py:36: FutureWarning: Pass the following variables as keyword args: x, y. From version 0.12, the only valid positional argument will be `data`, and passing other arguments without an explicit keyword will result in an error or misinterpretation.\n",
      "  warnings.warn(\n"
     ]
    },
    {
     "data": {
      "image/png": "[encoded data removed]",
      "text/plain": [
       "<Figure size 500x250 with 1 Axes>"
      ]
     },
     "metadata": {},
     "output_type": "display_data"
    }
   ],
   "source": [
    "# Which day is the busiest?\n",
    "train_day = train_set['day2'].value_counts()\n",
    "train_day = train_day[:10,]\n",
    "plt.figure(figsize=(5,2.5))\n",
    "sns.barplot(train_day.index, train_day.values, alpha=0.8)\n",
    "plt.title('Busiest days')\n",
    "plt.ylabel('Number of events', fontsize=12)\n",
    "plt.xlabel('day', fontsize=12)\n",
    "plt.show()"
   ]
  },
  {
   "cell_type": "code",
   "execution_count": 8,
   "metadata": {},
   "outputs": [
    {
     "data": {
      "text/plain": [
       "<AxesSubplot: xlabel='day2', ylabel='count'>"
      ]
     },
     "execution_count": 8,
     "metadata": {},
     "output_type": "execute_result"
    },
    {
     "data": {
      "image/png": "[encoded data removed]",
      "text/plain": [
       "<Figure size 640x480 with 1 Axes>"
      ]
     },
     "metadata": {},
     "output_type": "display_data"
    }
   ],
   "source": [
    "sns.countplot(x=train_set['day2'], data=train_day)"
   ]
  },
  {
   "cell_type": "code",
   "execution_count": null,
   "metadata": {},
   "outputs": [],
   "source": [
    "sns.countplot(x=train_set[\"session_id\"])"
   ]
  },
  {
   "cell_type": "code",
   "execution_count": 15,
   "metadata": {},
   "outputs": [
    {
     "data": {
      "text/plain": [
       "<AxesSubplot: xlabel='event_type', ylabel='count'>"
      ]
     },
     "execution_count": 15,
     "metadata": {},
     "output_type": "execute_result"
    },
    {
     "data": {
      "image/png": "[encoded data removed]",
      "text/plain": [
       "<Figure size 640x480 with 1 Axes>"
      ]
     },
     "metadata": {},
     "output_type": "display_data"
    }
   ],
   "source": [
    "sns.countplot(x=train_set[\"event_type\"])"
   ]
  },
  {
   "cell_type": "code",
   "execution_count": 17,
   "metadata": {},
   "outputs": [
    {
     "ename": "NameError",
     "evalue": "name 'train_products' is not defined",
     "output_type": "error",
     "traceback": [
      "\u001b[0;31m---------------------------------------------------------------------------\u001b[0m",
      "\u001b[0;31mNameError\u001b[0m                                 Traceback (most recent call last)",
      "Cell \u001b[0;32mIn[17], line 1\u001b[0m\n\u001b[0;32m----> 1\u001b[0m sns\u001b[39m.\u001b[39mcountplot(data\u001b[39m=\u001b[39mtrain_set, x\u001b[39m=\u001b[39mtrain_products\u001b[39m.\u001b[39mhead(\u001b[39m10\u001b[39m), hue\u001b[39m=\u001b[39m\u001b[39m\"\u001b[39m\u001b[39mevent_type\u001b[39m\u001b[39m\"\u001b[39m)\n",
      "\u001b[0;31mNameError\u001b[0m: name 'train_products' is not defined"
     ]
    }
   ],
   "source": [
    "sns.countplot(data=train_set, x=train_products.head(10), hue=\"event_type\")"
   ]
  },
  {
   "cell_type": "code",
   "execution_count": 18,
   "metadata": {},
   "outputs": [
    {
     "data": {
      "text/plain": [
       "<AxesSubplot: xlabel='event_type', ylabel='count'>"
      ]
     },
     "execution_count": 18,
     "metadata": {},
     "output_type": "execute_result"
    },
    {
     "data": {
      "image/png": "[encoded data removed]",
      "text/plain": [
       "<Figure size 640x480 with 1 Axes>"
      ]
     },
     "metadata": {},
     "output_type": "display_data"
    }
   ],
   "source": [
    "sns.countplot(data=train_set, x=train_set[\"event_type\"], hue=\"month\")"
   ]
  },
  {
   "cell_type": "code",
   "execution_count": null,
   "metadata": {},
   "outputs": [],
   "source": []
  }
 ],
 "metadata": {
  "kernelspec": {
   "display_name": "Python 3.11.0 ('thesis')",
   "language": "python",
   "name": "python3"
  },
  "language_info": {
   "codemirror_mode": {
    "name": "ipython",
    "version": 3
   },
   "file_extension": ".py",
   "mimetype": "text/x-python",
   "name": "python",
   "nbconvert_exporter": "python",
   "pygments_lexer": "ipython3",
   "version": "3.11.0"
  },
  "orig_nbformat": 4,
  "vscode": {
   "interpreter": {
    "hash": "90912879824f678a927bbb77a5f5f39c19065948c0c15f812c2f0fa4c4f160c8"
   }
  }
 },
 "nbformat": 4,
 "nbformat_minor": 2
}
