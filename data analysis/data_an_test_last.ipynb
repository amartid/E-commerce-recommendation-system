{
 "cells": [
  {
   "cell_type": "code",
   "execution_count": 1,
   "metadata": {},
   "outputs": [],
   "source": [
    "import numpy as np # linear algebra\n",
    "import pandas as pd # data processing, CSV file I/O (e.g. pd.read_csv)\n",
    "from pathlib import Path # working with paths\n",
    "import os\n",
    "import matplotlib.pyplot as plt\n",
    "import seaborn as sns\n",
    "import plotly.express as px"
   ]
  },
  {
   "cell_type": "code",
   "execution_count": 2,
   "metadata": {},
   "outputs": [],
   "source": [
    "# Setting data paths with pathlib\n",
    "data_path = Path('/home/mai22042/otto/data')\n",
    "test_path = data_path/'test.jsonl'\n",
    "test_path = data_path/'test.jsonl'\n",
    "sample_sub_path = Path('sample_submission.csv')"
   ]
  },
  {
   "cell_type": "code",
   "execution_count": 3,
   "metadata": {},
   "outputs": [],
   "source": [
    "# https://www.kaggle.com/code/columbia2131/otto-read-a-chunk-of-jsonl-to-manageable-df/\n",
    "test_set = pd.DataFrame()\n",
    "chunks = pd.read_json(data_path / 'test.jsonl', lines=True, chunksize=100_000)\n",
    "\n",
    "for e, chunk in enumerate(chunks):\n",
    "    event_dict = {\n",
    "        'session': [],\n",
    "        'aid': [],\n",
    "        'ts': [],\n",
    "        'type': [],\n",
    "    }\n",
    "\n",
    "    # test_set = pd.concat([test_set, chunk])\n",
    "    for session, events in zip(chunk['session'].tolist(), chunk['events'].tolist()):\n",
    "        for event in events:\n",
    "            event_dict['session'].append(session)\n",
    "            event_dict['aid'].append(event['aid'])\n",
    "            event_dict['ts'].append(event['ts'])\n",
    "            event_dict['type'].append(event['type'])\n",
    "    chunk_session = pd.DataFrame(event_dict)\n",
    "    test_set = pd.concat([test_set, chunk_session])\n",
    "\n",
    "        \n",
    "test_set = test_set.reset_index(drop=True)"
   ]
  },
  {
   "cell_type": "code",
   "execution_count": 4,
   "metadata": {},
   "outputs": [
    {
     "data": {
      "text/html": [
       "<div>\n",
       "<style scoped>\n",
       "    .dataframe tbody tr th:only-of-type {\n",
       "        vertical-align: middle;\n",
       "    }\n",
       "\n",
       "    .dataframe tbody tr th {\n",
       "        vertical-align: top;\n",
       "    }\n",
       "\n",
       "    .dataframe thead th {\n",
       "        text-align: right;\n",
       "    }\n",
       "</style>\n",
       "<table border=\"1\" class=\"dataframe\">\n",
       "  <thead>\n",
       "    <tr style=\"text-align: right;\">\n",
       "      <th></th>\n",
       "      <th>session</th>\n",
       "      <th>aid</th>\n",
       "      <th>ts</th>\n",
       "      <th>type</th>\n",
       "    </tr>\n",
       "  </thead>\n",
       "  <tbody>\n",
       "    <tr>\n",
       "      <th>0</th>\n",
       "      <td>12899779</td>\n",
       "      <td>59625</td>\n",
       "      <td>1661724000278</td>\n",
       "      <td>clicks</td>\n",
       "    </tr>\n",
       "    <tr>\n",
       "      <th>1</th>\n",
       "      <td>12899780</td>\n",
       "      <td>1142000</td>\n",
       "      <td>1661724000378</td>\n",
       "      <td>clicks</td>\n",
       "    </tr>\n",
       "    <tr>\n",
       "      <th>2</th>\n",
       "      <td>12899780</td>\n",
       "      <td>582732</td>\n",
       "      <td>1661724058352</td>\n",
       "      <td>clicks</td>\n",
       "    </tr>\n",
       "    <tr>\n",
       "      <th>3</th>\n",
       "      <td>12899780</td>\n",
       "      <td>973453</td>\n",
       "      <td>1661724109199</td>\n",
       "      <td>clicks</td>\n",
       "    </tr>\n",
       "    <tr>\n",
       "      <th>4</th>\n",
       "      <td>12899780</td>\n",
       "      <td>736515</td>\n",
       "      <td>1661724136868</td>\n",
       "      <td>clicks</td>\n",
       "    </tr>\n",
       "    <tr>\n",
       "      <th>...</th>\n",
       "      <td>...</td>\n",
       "      <td>...</td>\n",
       "      <td>...</td>\n",
       "      <td>...</td>\n",
       "    </tr>\n",
       "    <tr>\n",
       "      <th>6928118</th>\n",
       "      <td>14571577</td>\n",
       "      <td>1141710</td>\n",
       "      <td>1662328774770</td>\n",
       "      <td>clicks</td>\n",
       "    </tr>\n",
       "    <tr>\n",
       "      <th>6928119</th>\n",
       "      <td>14571578</td>\n",
       "      <td>519105</td>\n",
       "      <td>1662328775009</td>\n",
       "      <td>clicks</td>\n",
       "    </tr>\n",
       "    <tr>\n",
       "      <th>6928120</th>\n",
       "      <td>14571579</td>\n",
       "      <td>739876</td>\n",
       "      <td>1662328775605</td>\n",
       "      <td>clicks</td>\n",
       "    </tr>\n",
       "    <tr>\n",
       "      <th>6928121</th>\n",
       "      <td>14571580</td>\n",
       "      <td>202353</td>\n",
       "      <td>1662328781067</td>\n",
       "      <td>clicks</td>\n",
       "    </tr>\n",
       "    <tr>\n",
       "      <th>6928122</th>\n",
       "      <td>14571581</td>\n",
       "      <td>1100210</td>\n",
       "      <td>1662328791563</td>\n",
       "      <td>clicks</td>\n",
       "    </tr>\n",
       "  </tbody>\n",
       "</table>\n",
       "<p>6928123 rows × 4 columns</p>\n",
       "</div>"
      ],
      "text/plain": [
       "          session      aid             ts    type\n",
       "0        12899779    59625  1661724000278  clicks\n",
       "1        12899780  1142000  1661724000378  clicks\n",
       "2        12899780   582732  1661724058352  clicks\n",
       "3        12899780   973453  1661724109199  clicks\n",
       "4        12899780   736515  1661724136868  clicks\n",
       "...           ...      ...            ...     ...\n",
       "6928118  14571577  1141710  1662328774770  clicks\n",
       "6928119  14571578   519105  1662328775009  clicks\n",
       "6928120  14571579   739876  1662328775605  clicks\n",
       "6928121  14571580   202353  1662328781067  clicks\n",
       "6928122  14571581  1100210  1662328791563  clicks\n",
       "\n",
       "[6928123 rows x 4 columns]"
      ]
     },
     "metadata": {},
     "output_type": "display_data"
    }
   ],
   "source": [
    "display(test_set)"
   ]
  },
  {
   "cell_type": "code",
   "execution_count": 5,
   "metadata": {},
   "outputs": [],
   "source": [
    "test_set.rename(index=str, columns={'session': 'session_id',\n",
    "                              'aid' : 'product_id',\n",
    "                              'ts' : 'time_stamp',\n",
    "                              'type' : 'event_type'}, inplace=True)"
   ]
  },
  {
   "cell_type": "code",
   "execution_count": 6,
   "metadata": {},
   "outputs": [
    {
     "data": {
      "text/html": [
       "<div>\n",
       "<style scoped>\n",
       "    .dataframe tbody tr th:only-of-type {\n",
       "        vertical-align: middle;\n",
       "    }\n",
       "\n",
       "    .dataframe tbody tr th {\n",
       "        vertical-align: top;\n",
       "    }\n",
       "\n",
       "    .dataframe thead th {\n",
       "        text-align: right;\n",
       "    }\n",
       "</style>\n",
       "<table border=\"1\" class=\"dataframe\">\n",
       "  <thead>\n",
       "    <tr style=\"text-align: right;\">\n",
       "      <th></th>\n",
       "      <th>session_id</th>\n",
       "      <th>product_id</th>\n",
       "      <th>time_stamp</th>\n",
       "      <th>event_type</th>\n",
       "    </tr>\n",
       "  </thead>\n",
       "  <tbody>\n",
       "    <tr>\n",
       "      <th>0</th>\n",
       "      <td>12899779</td>\n",
       "      <td>59625</td>\n",
       "      <td>1661724000278</td>\n",
       "      <td>clicks</td>\n",
       "    </tr>\n",
       "    <tr>\n",
       "      <th>1</th>\n",
       "      <td>12899780</td>\n",
       "      <td>1142000</td>\n",
       "      <td>1661724000378</td>\n",
       "      <td>clicks</td>\n",
       "    </tr>\n",
       "    <tr>\n",
       "      <th>2</th>\n",
       "      <td>12899780</td>\n",
       "      <td>582732</td>\n",
       "      <td>1661724058352</td>\n",
       "      <td>clicks</td>\n",
       "    </tr>\n",
       "    <tr>\n",
       "      <th>3</th>\n",
       "      <td>12899780</td>\n",
       "      <td>973453</td>\n",
       "      <td>1661724109199</td>\n",
       "      <td>clicks</td>\n",
       "    </tr>\n",
       "    <tr>\n",
       "      <th>4</th>\n",
       "      <td>12899780</td>\n",
       "      <td>736515</td>\n",
       "      <td>1661724136868</td>\n",
       "      <td>clicks</td>\n",
       "    </tr>\n",
       "    <tr>\n",
       "      <th>5</th>\n",
       "      <td>12899780</td>\n",
       "      <td>1142000</td>\n",
       "      <td>1661724155248</td>\n",
       "      <td>clicks</td>\n",
       "    </tr>\n",
       "    <tr>\n",
       "      <th>6</th>\n",
       "      <td>12899781</td>\n",
       "      <td>141736</td>\n",
       "      <td>1661724000559</td>\n",
       "      <td>clicks</td>\n",
       "    </tr>\n",
       "    <tr>\n",
       "      <th>7</th>\n",
       "      <td>12899781</td>\n",
       "      <td>199008</td>\n",
       "      <td>1661724022851</td>\n",
       "      <td>clicks</td>\n",
       "    </tr>\n",
       "    <tr>\n",
       "      <th>8</th>\n",
       "      <td>12899781</td>\n",
       "      <td>57315</td>\n",
       "      <td>1661724170835</td>\n",
       "      <td>clicks</td>\n",
       "    </tr>\n",
       "    <tr>\n",
       "      <th>9</th>\n",
       "      <td>12899781</td>\n",
       "      <td>194067</td>\n",
       "      <td>1661724246188</td>\n",
       "      <td>clicks</td>\n",
       "    </tr>\n",
       "    <tr>\n",
       "      <th>10</th>\n",
       "      <td>12899781</td>\n",
       "      <td>199008</td>\n",
       "      <td>1661780623778</td>\n",
       "      <td>clicks</td>\n",
       "    </tr>\n",
       "    <tr>\n",
       "      <th>11</th>\n",
       "      <td>12899781</td>\n",
       "      <td>199008</td>\n",
       "      <td>1661781274081</td>\n",
       "      <td>clicks</td>\n",
       "    </tr>\n",
       "    <tr>\n",
       "      <th>12</th>\n",
       "      <td>12899781</td>\n",
       "      <td>199008</td>\n",
       "      <td>1661781409993</td>\n",
       "      <td>carts</td>\n",
       "    </tr>\n",
       "    <tr>\n",
       "      <th>13</th>\n",
       "      <td>12899781</td>\n",
       "      <td>199008</td>\n",
       "      <td>1661804151788</td>\n",
       "      <td>clicks</td>\n",
       "    </tr>\n",
       "    <tr>\n",
       "      <th>14</th>\n",
       "      <td>12899781</td>\n",
       "      <td>199008</td>\n",
       "      <td>1662060028567</td>\n",
       "      <td>clicks</td>\n",
       "    </tr>\n",
       "    <tr>\n",
       "      <th>15</th>\n",
       "      <td>12899781</td>\n",
       "      <td>199008</td>\n",
       "      <td>1662060064706</td>\n",
       "      <td>clicks</td>\n",
       "    </tr>\n",
       "    <tr>\n",
       "      <th>16</th>\n",
       "      <td>12899781</td>\n",
       "      <td>918667</td>\n",
       "      <td>1662060160406</td>\n",
       "      <td>clicks</td>\n",
       "    </tr>\n",
       "    <tr>\n",
       "      <th>17</th>\n",
       "      <td>12899782</td>\n",
       "      <td>1669402</td>\n",
       "      <td>1661724000568</td>\n",
       "      <td>clicks</td>\n",
       "    </tr>\n",
       "    <tr>\n",
       "      <th>18</th>\n",
       "      <td>12899782</td>\n",
       "      <td>1494780</td>\n",
       "      <td>1661724163530</td>\n",
       "      <td>clicks</td>\n",
       "    </tr>\n",
       "    <tr>\n",
       "      <th>19</th>\n",
       "      <td>12899782</td>\n",
       "      <td>1494780</td>\n",
       "      <td>1661724190624</td>\n",
       "      <td>clicks</td>\n",
       "    </tr>\n",
       "  </tbody>\n",
       "</table>\n",
       "</div>"
      ],
      "text/plain": [
       "    session_id  product_id     time_stamp event_type\n",
       "0     12899779       59625  1661724000278     clicks\n",
       "1     12899780     1142000  1661724000378     clicks\n",
       "2     12899780      582732  1661724058352     clicks\n",
       "3     12899780      973453  1661724109199     clicks\n",
       "4     12899780      736515  1661724136868     clicks\n",
       "5     12899780     1142000  1661724155248     clicks\n",
       "6     12899781      141736  1661724000559     clicks\n",
       "7     12899781      199008  1661724022851     clicks\n",
       "8     12899781       57315  1661724170835     clicks\n",
       "9     12899781      194067  1661724246188     clicks\n",
       "10    12899781      199008  1661780623778     clicks\n",
       "11    12899781      199008  1661781274081     clicks\n",
       "12    12899781      199008  1661781409993      carts\n",
       "13    12899781      199008  1661804151788     clicks\n",
       "14    12899781      199008  1662060028567     clicks\n",
       "15    12899781      199008  1662060064706     clicks\n",
       "16    12899781      918667  1662060160406     clicks\n",
       "17    12899782     1669402  1661724000568     clicks\n",
       "18    12899782     1494780  1661724163530     clicks\n",
       "19    12899782     1494780  1661724190624     clicks"
      ]
     },
     "execution_count": 6,
     "metadata": {},
     "output_type": "execute_result"
    }
   ],
   "source": [
    "test_set.head(20)"
   ]
  },
  {
   "cell_type": "code",
   "execution_count": 7,
   "metadata": {},
   "outputs": [
    {
     "data": {
      "text/html": [
       "<div>\n",
       "<style scoped>\n",
       "    .dataframe tbody tr th:only-of-type {\n",
       "        vertical-align: middle;\n",
       "    }\n",
       "\n",
       "    .dataframe tbody tr th {\n",
       "        vertical-align: top;\n",
       "    }\n",
       "\n",
       "    .dataframe thead th {\n",
       "        text-align: right;\n",
       "    }\n",
       "</style>\n",
       "<table border=\"1\" class=\"dataframe\">\n",
       "  <thead>\n",
       "    <tr style=\"text-align: right;\">\n",
       "      <th></th>\n",
       "      <th>session_id</th>\n",
       "      <th>product_id</th>\n",
       "      <th>time_stamp</th>\n",
       "      <th>event_type</th>\n",
       "      <th>date</th>\n",
       "    </tr>\n",
       "  </thead>\n",
       "  <tbody>\n",
       "    <tr>\n",
       "      <th>0</th>\n",
       "      <td>12899779</td>\n",
       "      <td>59625</td>\n",
       "      <td>1661724000278</td>\n",
       "      <td>clicks</td>\n",
       "      <td>2022-08-28 22:00:00.278</td>\n",
       "    </tr>\n",
       "    <tr>\n",
       "      <th>1</th>\n",
       "      <td>12899780</td>\n",
       "      <td>1142000</td>\n",
       "      <td>1661724000378</td>\n",
       "      <td>clicks</td>\n",
       "      <td>2022-08-28 22:00:00.378</td>\n",
       "    </tr>\n",
       "    <tr>\n",
       "      <th>2</th>\n",
       "      <td>12899780</td>\n",
       "      <td>582732</td>\n",
       "      <td>1661724058352</td>\n",
       "      <td>clicks</td>\n",
       "      <td>2022-08-28 22:00:58.352</td>\n",
       "    </tr>\n",
       "    <tr>\n",
       "      <th>3</th>\n",
       "      <td>12899780</td>\n",
       "      <td>973453</td>\n",
       "      <td>1661724109199</td>\n",
       "      <td>clicks</td>\n",
       "      <td>2022-08-28 22:01:49.199</td>\n",
       "    </tr>\n",
       "    <tr>\n",
       "      <th>4</th>\n",
       "      <td>12899780</td>\n",
       "      <td>736515</td>\n",
       "      <td>1661724136868</td>\n",
       "      <td>clicks</td>\n",
       "      <td>2022-08-28 22:02:16.868</td>\n",
       "    </tr>\n",
       "    <tr>\n",
       "      <th>5</th>\n",
       "      <td>12899780</td>\n",
       "      <td>1142000</td>\n",
       "      <td>1661724155248</td>\n",
       "      <td>clicks</td>\n",
       "      <td>2022-08-28 22:02:35.248</td>\n",
       "    </tr>\n",
       "    <tr>\n",
       "      <th>6</th>\n",
       "      <td>12899781</td>\n",
       "      <td>141736</td>\n",
       "      <td>1661724000559</td>\n",
       "      <td>clicks</td>\n",
       "      <td>2022-08-28 22:00:00.559</td>\n",
       "    </tr>\n",
       "    <tr>\n",
       "      <th>7</th>\n",
       "      <td>12899781</td>\n",
       "      <td>199008</td>\n",
       "      <td>1661724022851</td>\n",
       "      <td>clicks</td>\n",
       "      <td>2022-08-28 22:00:22.851</td>\n",
       "    </tr>\n",
       "    <tr>\n",
       "      <th>8</th>\n",
       "      <td>12899781</td>\n",
       "      <td>57315</td>\n",
       "      <td>1661724170835</td>\n",
       "      <td>clicks</td>\n",
       "      <td>2022-08-28 22:02:50.835</td>\n",
       "    </tr>\n",
       "    <tr>\n",
       "      <th>9</th>\n",
       "      <td>12899781</td>\n",
       "      <td>194067</td>\n",
       "      <td>1661724246188</td>\n",
       "      <td>clicks</td>\n",
       "      <td>2022-08-28 22:04:06.188</td>\n",
       "    </tr>\n",
       "    <tr>\n",
       "      <th>10</th>\n",
       "      <td>12899781</td>\n",
       "      <td>199008</td>\n",
       "      <td>1661780623778</td>\n",
       "      <td>clicks</td>\n",
       "      <td>2022-08-29 13:43:43.778</td>\n",
       "    </tr>\n",
       "    <tr>\n",
       "      <th>11</th>\n",
       "      <td>12899781</td>\n",
       "      <td>199008</td>\n",
       "      <td>1661781274081</td>\n",
       "      <td>clicks</td>\n",
       "      <td>2022-08-29 13:54:34.081</td>\n",
       "    </tr>\n",
       "    <tr>\n",
       "      <th>12</th>\n",
       "      <td>12899781</td>\n",
       "      <td>199008</td>\n",
       "      <td>1661781409993</td>\n",
       "      <td>carts</td>\n",
       "      <td>2022-08-29 13:56:49.993</td>\n",
       "    </tr>\n",
       "    <tr>\n",
       "      <th>13</th>\n",
       "      <td>12899781</td>\n",
       "      <td>199008</td>\n",
       "      <td>1661804151788</td>\n",
       "      <td>clicks</td>\n",
       "      <td>2022-08-29 20:15:51.788</td>\n",
       "    </tr>\n",
       "    <tr>\n",
       "      <th>14</th>\n",
       "      <td>12899781</td>\n",
       "      <td>199008</td>\n",
       "      <td>1662060028567</td>\n",
       "      <td>clicks</td>\n",
       "      <td>2022-09-01 19:20:28.567</td>\n",
       "    </tr>\n",
       "    <tr>\n",
       "      <th>15</th>\n",
       "      <td>12899781</td>\n",
       "      <td>199008</td>\n",
       "      <td>1662060064706</td>\n",
       "      <td>clicks</td>\n",
       "      <td>2022-09-01 19:21:04.706</td>\n",
       "    </tr>\n",
       "    <tr>\n",
       "      <th>16</th>\n",
       "      <td>12899781</td>\n",
       "      <td>918667</td>\n",
       "      <td>1662060160406</td>\n",
       "      <td>clicks</td>\n",
       "      <td>2022-09-01 19:22:40.406</td>\n",
       "    </tr>\n",
       "    <tr>\n",
       "      <th>17</th>\n",
       "      <td>12899782</td>\n",
       "      <td>1669402</td>\n",
       "      <td>1661724000568</td>\n",
       "      <td>clicks</td>\n",
       "      <td>2022-08-28 22:00:00.568</td>\n",
       "    </tr>\n",
       "    <tr>\n",
       "      <th>18</th>\n",
       "      <td>12899782</td>\n",
       "      <td>1494780</td>\n",
       "      <td>1661724163530</td>\n",
       "      <td>clicks</td>\n",
       "      <td>2022-08-28 22:02:43.530</td>\n",
       "    </tr>\n",
       "    <tr>\n",
       "      <th>19</th>\n",
       "      <td>12899782</td>\n",
       "      <td>1494780</td>\n",
       "      <td>1661724190624</td>\n",
       "      <td>clicks</td>\n",
       "      <td>2022-08-28 22:03:10.624</td>\n",
       "    </tr>\n",
       "  </tbody>\n",
       "</table>\n",
       "</div>"
      ],
      "text/plain": [
       "    session_id  product_id     time_stamp event_type                    date\n",
       "0     12899779       59625  1661724000278     clicks 2022-08-28 22:00:00.278\n",
       "1     12899780     1142000  1661724000378     clicks 2022-08-28 22:00:00.378\n",
       "2     12899780      582732  1661724058352     clicks 2022-08-28 22:00:58.352\n",
       "3     12899780      973453  1661724109199     clicks 2022-08-28 22:01:49.199\n",
       "4     12899780      736515  1661724136868     clicks 2022-08-28 22:02:16.868\n",
       "5     12899780     1142000  1661724155248     clicks 2022-08-28 22:02:35.248\n",
       "6     12899781      141736  1661724000559     clicks 2022-08-28 22:00:00.559\n",
       "7     12899781      199008  1661724022851     clicks 2022-08-28 22:00:22.851\n",
       "8     12899781       57315  1661724170835     clicks 2022-08-28 22:02:50.835\n",
       "9     12899781      194067  1661724246188     clicks 2022-08-28 22:04:06.188\n",
       "10    12899781      199008  1661780623778     clicks 2022-08-29 13:43:43.778\n",
       "11    12899781      199008  1661781274081     clicks 2022-08-29 13:54:34.081\n",
       "12    12899781      199008  1661781409993      carts 2022-08-29 13:56:49.993\n",
       "13    12899781      199008  1661804151788     clicks 2022-08-29 20:15:51.788\n",
       "14    12899781      199008  1662060028567     clicks 2022-09-01 19:20:28.567\n",
       "15    12899781      199008  1662060064706     clicks 2022-09-01 19:21:04.706\n",
       "16    12899781      918667  1662060160406     clicks 2022-09-01 19:22:40.406\n",
       "17    12899782     1669402  1661724000568     clicks 2022-08-28 22:00:00.568\n",
       "18    12899782     1494780  1661724163530     clicks 2022-08-28 22:02:43.530\n",
       "19    12899782     1494780  1661724190624     clicks 2022-08-28 22:03:10.624"
      ]
     },
     "execution_count": 7,
     "metadata": {},
     "output_type": "execute_result"
    }
   ],
   "source": [
    "test_set['date'] = pd.to_datetime(test_set['time_stamp'], unit='ms')\n",
    "test_set.head(20)"
   ]
  },
  {
   "cell_type": "code",
   "execution_count": null,
   "metadata": {},
   "outputs": [],
   "source": [
    "test_set.drop('year_month', inplace=True, axis=1)\n",
    "\n",
    "test_set.head(5)"
   ]
  },
  {
   "cell_type": "code",
   "execution_count": 10,
   "metadata": {},
   "outputs": [],
   "source": [
    "test_set.insert(loc=3, column='year', value=test_set['date'].map(lambda x: x.year))"
   ]
  },
  {
   "cell_type": "code",
   "execution_count": 11,
   "metadata": {},
   "outputs": [],
   "source": [
    "test_set.insert(loc=4, column='month', value=test_set['date'].map(lambda x: x.month))"
   ]
  },
  {
   "cell_type": "code",
   "execution_count": 12,
   "metadata": {},
   "outputs": [],
   "source": [
    "test_set.insert(loc=5, column='day', value=test_set['date'].map(lambda x: x.day))"
   ]
  },
  {
   "cell_type": "code",
   "execution_count": 13,
   "metadata": {},
   "outputs": [],
   "source": [
    "test_set.head(5)\n",
    "test_set.insert(loc=7, column='day2', value=(test_set.date.dt.dayofweek)+1)\n"
   ]
  },
  {
   "cell_type": "code",
   "execution_count": 14,
   "metadata": {},
   "outputs": [],
   "source": [
    "test_set.insert(loc=8, column='hour', value=test_set.date.dt.hour)"
   ]
  },
  {
   "cell_type": "code",
   "execution_count": 15,
   "metadata": {},
   "outputs": [
    {
     "data": {
      "text/html": [
       "<div>\n",
       "<style scoped>\n",
       "    .dataframe tbody tr th:only-of-type {\n",
       "        vertical-align: middle;\n",
       "    }\n",
       "\n",
       "    .dataframe tbody tr th {\n",
       "        vertical-align: top;\n",
       "    }\n",
       "\n",
       "    .dataframe thead th {\n",
       "        text-align: right;\n",
       "    }\n",
       "</style>\n",
       "<table border=\"1\" class=\"dataframe\">\n",
       "  <thead>\n",
       "    <tr style=\"text-align: right;\">\n",
       "      <th></th>\n",
       "      <th>session_id</th>\n",
       "      <th>product_id</th>\n",
       "      <th>time_stamp</th>\n",
       "      <th>year</th>\n",
       "      <th>month</th>\n",
       "      <th>day</th>\n",
       "      <th>event_type</th>\n",
       "      <th>day2</th>\n",
       "      <th>hour</th>\n",
       "      <th>date</th>\n",
       "    </tr>\n",
       "  </thead>\n",
       "  <tbody>\n",
       "    <tr>\n",
       "      <th>0</th>\n",
       "      <td>12899779</td>\n",
       "      <td>59625</td>\n",
       "      <td>1661724000278</td>\n",
       "      <td>2022</td>\n",
       "      <td>8</td>\n",
       "      <td>28</td>\n",
       "      <td>clicks</td>\n",
       "      <td>7</td>\n",
       "      <td>22</td>\n",
       "      <td>2022-08-28 22:00:00.278</td>\n",
       "    </tr>\n",
       "    <tr>\n",
       "      <th>1</th>\n",
       "      <td>12899780</td>\n",
       "      <td>1142000</td>\n",
       "      <td>1661724000378</td>\n",
       "      <td>2022</td>\n",
       "      <td>8</td>\n",
       "      <td>28</td>\n",
       "      <td>clicks</td>\n",
       "      <td>7</td>\n",
       "      <td>22</td>\n",
       "      <td>2022-08-28 22:00:00.378</td>\n",
       "    </tr>\n",
       "    <tr>\n",
       "      <th>2</th>\n",
       "      <td>12899780</td>\n",
       "      <td>582732</td>\n",
       "      <td>1661724058352</td>\n",
       "      <td>2022</td>\n",
       "      <td>8</td>\n",
       "      <td>28</td>\n",
       "      <td>clicks</td>\n",
       "      <td>7</td>\n",
       "      <td>22</td>\n",
       "      <td>2022-08-28 22:00:58.352</td>\n",
       "    </tr>\n",
       "    <tr>\n",
       "      <th>3</th>\n",
       "      <td>12899780</td>\n",
       "      <td>973453</td>\n",
       "      <td>1661724109199</td>\n",
       "      <td>2022</td>\n",
       "      <td>8</td>\n",
       "      <td>28</td>\n",
       "      <td>clicks</td>\n",
       "      <td>7</td>\n",
       "      <td>22</td>\n",
       "      <td>2022-08-28 22:01:49.199</td>\n",
       "    </tr>\n",
       "    <tr>\n",
       "      <th>4</th>\n",
       "      <td>12899780</td>\n",
       "      <td>736515</td>\n",
       "      <td>1661724136868</td>\n",
       "      <td>2022</td>\n",
       "      <td>8</td>\n",
       "      <td>28</td>\n",
       "      <td>clicks</td>\n",
       "      <td>7</td>\n",
       "      <td>22</td>\n",
       "      <td>2022-08-28 22:02:16.868</td>\n",
       "    </tr>\n",
       "  </tbody>\n",
       "</table>\n",
       "</div>"
      ],
      "text/plain": [
       "   session_id  product_id     time_stamp  year  month  day event_type  day2  \\\n",
       "0    12899779       59625  1661724000278  2022      8   28     clicks     7   \n",
       "1    12899780     1142000  1661724000378  2022      8   28     clicks     7   \n",
       "2    12899780      582732  1661724058352  2022      8   28     clicks     7   \n",
       "3    12899780      973453  1661724109199  2022      8   28     clicks     7   \n",
       "4    12899780      736515  1661724136868  2022      8   28     clicks     7   \n",
       "\n",
       "   hour                    date  \n",
       "0    22 2022-08-28 22:00:00.278  \n",
       "1    22 2022-08-28 22:00:00.378  \n",
       "2    22 2022-08-28 22:00:58.352  \n",
       "3    22 2022-08-28 22:01:49.199  \n",
       "4    22 2022-08-28 22:02:16.868  "
      ]
     },
     "execution_count": 15,
     "metadata": {},
     "output_type": "execute_result"
    }
   ],
   "source": [
    "test_set.head(5)"
   ]
  },
  {
   "cell_type": "code",
   "execution_count": 16,
   "metadata": {},
   "outputs": [],
   "source": [
    "test_set = test_set[['session_id','product_id','event_type','time_stamp','year','month','day','day2','hour','date']]"
   ]
  },
  {
   "cell_type": "code",
   "execution_count": 17,
   "metadata": {},
   "outputs": [
    {
     "data": {
      "text/html": [
       "<div>\n",
       "<style scoped>\n",
       "    .dataframe tbody tr th:only-of-type {\n",
       "        vertical-align: middle;\n",
       "    }\n",
       "\n",
       "    .dataframe tbody tr th {\n",
       "        vertical-align: top;\n",
       "    }\n",
       "\n",
       "    .dataframe thead th {\n",
       "        text-align: right;\n",
       "    }\n",
       "</style>\n",
       "<table border=\"1\" class=\"dataframe\">\n",
       "  <thead>\n",
       "    <tr style=\"text-align: right;\">\n",
       "      <th></th>\n",
       "      <th>session_id</th>\n",
       "      <th>product_id</th>\n",
       "      <th>event_type</th>\n",
       "      <th>time_stamp</th>\n",
       "      <th>year</th>\n",
       "      <th>month</th>\n",
       "      <th>day</th>\n",
       "      <th>day2</th>\n",
       "      <th>hour</th>\n",
       "      <th>date</th>\n",
       "    </tr>\n",
       "  </thead>\n",
       "  <tbody>\n",
       "    <tr>\n",
       "      <th>0</th>\n",
       "      <td>12899779</td>\n",
       "      <td>59625</td>\n",
       "      <td>clicks</td>\n",
       "      <td>1661724000278</td>\n",
       "      <td>2022</td>\n",
       "      <td>8</td>\n",
       "      <td>28</td>\n",
       "      <td>7</td>\n",
       "      <td>22</td>\n",
       "      <td>2022-08-28 22:00:00.278</td>\n",
       "    </tr>\n",
       "    <tr>\n",
       "      <th>1</th>\n",
       "      <td>12899780</td>\n",
       "      <td>1142000</td>\n",
       "      <td>clicks</td>\n",
       "      <td>1661724000378</td>\n",
       "      <td>2022</td>\n",
       "      <td>8</td>\n",
       "      <td>28</td>\n",
       "      <td>7</td>\n",
       "      <td>22</td>\n",
       "      <td>2022-08-28 22:00:00.378</td>\n",
       "    </tr>\n",
       "    <tr>\n",
       "      <th>2</th>\n",
       "      <td>12899780</td>\n",
       "      <td>582732</td>\n",
       "      <td>clicks</td>\n",
       "      <td>1661724058352</td>\n",
       "      <td>2022</td>\n",
       "      <td>8</td>\n",
       "      <td>28</td>\n",
       "      <td>7</td>\n",
       "      <td>22</td>\n",
       "      <td>2022-08-28 22:00:58.352</td>\n",
       "    </tr>\n",
       "    <tr>\n",
       "      <th>3</th>\n",
       "      <td>12899780</td>\n",
       "      <td>973453</td>\n",
       "      <td>clicks</td>\n",
       "      <td>1661724109199</td>\n",
       "      <td>2022</td>\n",
       "      <td>8</td>\n",
       "      <td>28</td>\n",
       "      <td>7</td>\n",
       "      <td>22</td>\n",
       "      <td>2022-08-28 22:01:49.199</td>\n",
       "    </tr>\n",
       "    <tr>\n",
       "      <th>4</th>\n",
       "      <td>12899780</td>\n",
       "      <td>736515</td>\n",
       "      <td>clicks</td>\n",
       "      <td>1661724136868</td>\n",
       "      <td>2022</td>\n",
       "      <td>8</td>\n",
       "      <td>28</td>\n",
       "      <td>7</td>\n",
       "      <td>22</td>\n",
       "      <td>2022-08-28 22:02:16.868</td>\n",
       "    </tr>\n",
       "  </tbody>\n",
       "</table>\n",
       "</div>"
      ],
      "text/plain": [
       "   session_id  product_id event_type     time_stamp  year  month  day  day2  \\\n",
       "0    12899779       59625     clicks  1661724000278  2022      8   28     7   \n",
       "1    12899780     1142000     clicks  1661724000378  2022      8   28     7   \n",
       "2    12899780      582732     clicks  1661724058352  2022      8   28     7   \n",
       "3    12899780      973453     clicks  1661724109199  2022      8   28     7   \n",
       "4    12899780      736515     clicks  1661724136868  2022      8   28     7   \n",
       "\n",
       "   hour                    date  \n",
       "0    22 2022-08-28 22:00:00.278  \n",
       "1    22 2022-08-28 22:00:00.378  \n",
       "2    22 2022-08-28 22:00:58.352  \n",
       "3    22 2022-08-28 22:01:49.199  \n",
       "4    22 2022-08-28 22:02:16.868  "
      ]
     },
     "execution_count": 17,
     "metadata": {},
     "output_type": "execute_result"
    }
   ],
   "source": [
    "test_set.head(5)"
   ]
  },
  {
   "cell_type": "code",
   "execution_count": 18,
   "metadata": {},
   "outputs": [],
   "source": [
    "# creating a csv from dataframe\n",
    "test_set.to_csv(\"otto-data-test-an-last.csv\", index=False)"
   ]
  },
  {
   "cell_type": "code",
   "execution_count": 3,
   "metadata": {},
   "outputs": [],
   "source": [
    "test_set= pd.read_csv('/home/mai22042/otto/src/data analysis/otto-data-test-an-last.csv')"
   ]
  },
  {
   "cell_type": "code",
   "execution_count": 4,
   "metadata": {},
   "outputs": [
    {
     "name": "stdout",
     "output_type": "stream",
     "text": [
      "session_id    1671803\n",
      "product_id     783486\n",
      "event_type          3\n",
      "time_stamp    6835980\n",
      "year                1\n",
      "month               2\n",
      "day                 8\n",
      "day2                7\n",
      "hour               24\n",
      "date          6835980\n",
      "dtype: int64\n"
     ]
    }
   ],
   "source": [
    "print(test_set.nunique())"
   ]
  },
  {
   "cell_type": "code",
   "execution_count": 6,
   "metadata": {},
   "outputs": [
    {
     "name": "stdout",
     "output_type": "stream",
     "text": [
      "14086824    458\n",
      "13352358    433\n",
      "13242700    421\n",
      "13234219    407\n",
      "13346726    406\n",
      "           ... \n",
      "13675903      1\n",
      "13675907      1\n",
      "13675908      1\n",
      "13675909      1\n",
      "14571581      1\n",
      "Name: session_id, Length: 1671803, dtype: int64\n"
     ]
    }
   ],
   "source": [
    "# which session was more active\n",
    "test_sessions = test_set['session_id'].value_counts()\n",
    "print(test_sessions)\n",
    "\n"
   ]
  },
  {
   "cell_type": "code",
   "execution_count": 7,
   "metadata": {},
   "outputs": [
    {
     "name": "stdout",
     "output_type": "stream",
     "text": [
      "485256     9056\n",
      "1460571    8870\n",
      "108125     6361\n",
      "986164     4569\n",
      "554660     3668\n",
      "           ... \n",
      "391437        1\n",
      "933573        1\n",
      "1208144       1\n",
      "1220801       1\n",
      "1722993       1\n",
      "Name: product_id, Length: 783486, dtype: int64\n"
     ]
    },
    {
     "data": {
      "text/plain": [
       "485256     9056\n",
       "1460571    8870\n",
       "108125     6361\n",
       "986164     4569\n",
       "554660     3668\n",
       "1551213    3592\n",
       "754412     3443\n",
       "832192     3441\n",
       "33343      3438\n",
       "579690     3316\n",
       "1006198    2999\n",
       "688602     2975\n",
       "329725     2963\n",
       "29735      2936\n",
       "184976     2646\n",
       "1019736    2593\n",
       "1022566    2560\n",
       "1043508    2538\n",
       "496180     2464\n",
       "944778     2406\n",
       "Name: product_id, dtype: int64"
      ]
     },
     "execution_count": 7,
     "metadata": {},
     "output_type": "execute_result"
    }
   ],
   "source": [
    "# unique products and how often they are clicked, put in cart, or bought\n",
    "test_products = test_set['product_id'].value_counts()\n",
    "print(test_products)\n",
    "test_products.head(20)"
   ]
  },
  {
   "cell_type": "code",
   "execution_count": 8,
   "metadata": {},
   "outputs": [
    {
     "name": "stdout",
     "output_type": "stream",
     "text": [
      "sessions[test_set] contain : 6292632 number of \"clicks\" in total\n",
      "sessions[test_set] contain : 570011 number of \"carts\" in total\n",
      "sessions[test_set] contain : 65480 number of \"orders\" in total\n"
     ]
    }
   ],
   "source": [
    "#Total number of \"clicks\" in test session\n",
    "n_clicks = len(test_set[test_set['event_type'].map(lambda x:x == 'clicks')])\n",
    "print(f'sessions[test_set] contain : {n_clicks} number of \"clicks\" in total')\n",
    "#Total number of \"carts\" in test session\n",
    "n_carts = len(test_set[test_set['event_type'].map(lambda x:x == 'carts')])\n",
    "print(f'sessions[test_set] contain : {n_carts} number of \"carts\" in total')\n",
    "#Total number of \"orders\" in test session\n",
    "n_orders = len(test_set[test_set['event_type'].map(lambda x:x == 'orders')])\n",
    "print(f'sessions[test_set] contain : {n_orders} number of \"orders\" in total')"
   ]
  },
  {
   "cell_type": "code",
   "execution_count": 13,
   "metadata": {},
   "outputs": [],
   "source": [
    "#n_cer = len(test_set[test_set['event_type'].map(lambda x:x == type) & test_set['month'].map(lambda x:x == month)])\n",
    "#print(f'sessions[test_set] contain : {n_cer} number of \"clicks\" in total')"
   ]
  },
  {
   "cell_type": "code",
   "execution_count": 9,
   "metadata": {},
   "outputs": [
    {
     "name": "stdout",
     "output_type": "stream",
     "text": [
      "Durring the 5 month, 0 number of type \"clicks\" actions occured.\n",
      "Durring the 5 month, 0 number of type \"carts\" actions occured.\n",
      "Durring the 5 month, 0 number of type \"orders\" actions occured.\n",
      "Durring the 6 month, 0 number of type \"clicks\" actions occured.\n",
      "Durring the 6 month, 0 number of type \"carts\" actions occured.\n",
      "Durring the 6 month, 0 number of type \"orders\" actions occured.\n",
      "Durring the 7 month, 0 number of type \"clicks\" actions occured.\n",
      "Durring the 7 month, 0 number of type \"carts\" actions occured.\n",
      "Durring the 7 month, 0 number of type \"orders\" actions occured.\n",
      "Durring the 8 month, 2868445 number of type \"clicks\" actions occured.\n",
      "Durring the 8 month, 262328 number of type \"carts\" actions occured.\n",
      "Durring the 8 month, 35504 number of type \"orders\" actions occured.\n",
      "Durring the 9 month, 3424187 number of type \"clicks\" actions occured.\n",
      "Durring the 9 month, 307683 number of type \"carts\" actions occured.\n",
      "Durring the 9 month, 29976 number of type \"orders\" actions occured.\n"
     ]
    }
   ],
   "source": [
    "types=['clicks','carts','orders']\n",
    "months=[5,6,7,8,9]\n",
    "for month in months:\n",
    "    for type in types:\n",
    "        #n_o_e = test_set[test_set['event_type'].map(lambda x:x == type)]\n",
    "        #n_month = test_set[test_set['month'].map(lambda x:x == month)]\n",
    "        n_e_p_m = len(test_set[(test_set['event_type'].map(lambda x:x == type)) & (test_set['month'].map(lambda x:x == month))])\n",
    "        print(f'Durring the {month} month, {n_e_p_m} number of type \"{type}\" actions occured.')"
   ]
  },
  {
   "cell_type": "code",
   "execution_count": 10,
   "metadata": {},
   "outputs": [
    {
     "name": "stdout",
     "output_type": "stream",
     "text": [
      "9    3761846\n",
      "8    3166277\n",
      "Name: month, dtype: int64\n"
     ]
    }
   ],
   "source": [
    "# Which month is the busiest?\n",
    "test_month = test_set['month'].value_counts()\n",
    "print(test_month)"
   ]
  },
  {
   "cell_type": "code",
   "execution_count": 11,
   "metadata": {},
   "outputs": [
    {
     "name": "stdout",
     "output_type": "stream",
     "text": [
      "7    1097239\n",
      "2    1059335\n",
      "3    1044783\n",
      "1    1031605\n",
      "6     939317\n",
      "4     921459\n",
      "5     834385\n",
      "Name: day2, dtype: int64\n"
     ]
    },
    {
     "name": "stderr",
     "output_type": "stream",
     "text": [
      "/tmp/ipykernel_1080066/4191061148.py:4: FutureWarning: The behavior of `series[i:j]` with an integer-dtype index is deprecated. In a future version, this will be treated as *label-based* indexing, consistent with e.g. `series[i]` lookups. To retain the old behavior, use `series.iloc[i:j]`. To get the future behavior, use `series.loc[i:j]`.\n",
      "  test_day = test_day[:10,]\n",
      "/home/mai22042/miniconda3/envs/thesis/lib/python3.11/site-packages/seaborn/_decorators.py:36: FutureWarning: Pass the following variables as keyword args: x, y. From version 0.12, the only valid positional argument will be `data`, and passing other arguments without an explicit keyword will result in an error or misinterpretation.\n",
      "  warnings.warn(\n"
     ]
    },
    {
     "data": {
      "image/png": "[encoded data removed]",
      "text/plain": [
       "<Figure size 500x250 with 1 Axes>"
      ]
     },
     "metadata": {},
     "output_type": "display_data"
    }
   ],
   "source": [
    "# Which day is the busiest?\n",
    "test_day = test_set['day2'].value_counts()\n",
    "print(test_day)\n",
    "test_day = test_day[:10,]\n",
    "plt.figure(figsize=(5,2.5))\n",
    "sns.barplot(test_day.index, test_day.values, alpha=0.8)\n",
    "plt.title('Busiest days')\n",
    "plt.ylabel('Number of events', fontsize=12)\n",
    "plt.xlabel('day', fontsize=12)\n",
    "plt.show()"
   ]
  },
  {
   "cell_type": "code",
   "execution_count": 12,
   "metadata": {},
   "outputs": [
    {
     "data": {
      "text/plain": [
       "<AxesSubplot: xlabel='day2', ylabel='count'>"
      ]
     },
     "execution_count": 12,
     "metadata": {},
     "output_type": "execute_result"
    },
    {
     "data": {
      "image/png": "[encoded data removed]",
      "text/plain": [
       "<Figure size 640x480 with 1 Axes>"
      ]
     },
     "metadata": {},
     "output_type": "display_data"
    }
   ],
   "source": [
    "sns.countplot(x=test_set['day2'], data=test_day)"
   ]
  },
  {
   "cell_type": "code",
   "execution_count": 35,
   "metadata": {},
   "outputs": [
    {
     "data": {
      "text/plain": [
       "<AxesSubplot: xlabel='session_id', ylabel='count'>"
      ]
     },
     "execution_count": 35,
     "metadata": {},
     "output_type": "execute_result"
    },
    {
     "data": {
      "image/png": "[encoded data removed]",
      "text/plain": [
       "<Figure size 640x480 with 1 Axes>"
      ]
     },
     "metadata": {},
     "output_type": "display_data"
    }
   ],
   "source": [
    "sns.countplot(x=test_set[\"session_id\"])"
   ]
  },
  {
   "cell_type": "code",
   "execution_count": 13,
   "metadata": {},
   "outputs": [
    {
     "data": {
      "text/plain": [
       "<AxesSubplot: xlabel='event_type', ylabel='count'>"
      ]
     },
     "execution_count": 13,
     "metadata": {},
     "output_type": "execute_result"
    },
    {
     "data": {
      "image/png": "[encoded data removed]",
      "text/plain": [
       "<Figure size 640x480 with 1 Axes>"
      ]
     },
     "metadata": {},
     "output_type": "display_data"
    }
   ],
   "source": [
    "sns.countplot(x=test_set[\"event_type\"])"
   ]
  },
  {
   "cell_type": "code",
   "execution_count": 44,
   "metadata": {},
   "outputs": [
    {
     "data": {
      "text/plain": [
       "<AxesSubplot: xlabel='product_id', ylabel='count'>"
      ]
     },
     "execution_count": 44,
     "metadata": {},
     "output_type": "execute_result"
    },
    {
     "data": {
      "image/png": "[encoded data removed]",
      "text/plain": [
       "<Figure size 640x480 with 1 Axes>"
      ]
     },
     "metadata": {},
     "output_type": "display_data"
    }
   ],
   "source": [
    "sns.countplot(data=test_set, x=test_products.head(10), hue=\"event_type\")"
   ]
  },
  {
   "cell_type": "code",
   "execution_count": 41,
   "metadata": {},
   "outputs": [
    {
     "data": {
      "text/plain": [
       "<AxesSubplot: xlabel='event_type', ylabel='count'>"
      ]
     },
     "execution_count": 41,
     "metadata": {},
     "output_type": "execute_result"
    },
    {
     "data": {
      "image/png": "[encoded data removed]",
      "text/plain": [
       "<Figure size 640x480 with 1 Axes>"
      ]
     },
     "metadata": {},
     "output_type": "display_data"
    }
   ],
   "source": [
    "sns.countplot(data=test_set, x=test_set[\"event_type\"], hue=\"month\")"
   ]
  },
  {
   "cell_type": "code",
   "execution_count": null,
   "metadata": {},
   "outputs": [],
   "source": []
  }
 ],
 "metadata": {
  "kernelspec": {
   "display_name": "Python 3.11.0 ('thesis')",
   "language": "python",
   "name": "python3"
  },
  "language_info": {
   "codemirror_mode": {
    "name": "ipython",
    "version": 3
   },
   "file_extension": ".py",
   "mimetype": "text/x-python",
   "name": "python",
   "nbconvert_exporter": "python",
   "pygments_lexer": "ipython3",
   "version": "3.11.0"
  },
  "orig_nbformat": 4,
  "vscode": {
   "interpreter": {
    "hash": "90912879824f678a927bbb77a5f5f39c19065948c0c15f812c2f0fa4c4f160c8"
   }
  }
 },
 "nbformat": 4,
 "nbformat_minor": 2
}
